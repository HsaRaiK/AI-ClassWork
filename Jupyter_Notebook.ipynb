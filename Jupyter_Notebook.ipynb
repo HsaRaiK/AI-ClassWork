{
  "cells": [
    {
      "cell_type": "markdown",
      "metadata": {
        "id": "view-in-github",
        "colab_type": "text"
      },
      "source": [
        "<a href=\"https://colab.research.google.com/github/HsaRaiK/AI-ClassWork/blob/main/Jupyter_Notebook.ipynb\" target=\"_parent\"><img src=\"https://colab.research.google.com/assets/colab-badge.svg\" alt=\"Open In Colab\"/></a>"
      ]
    },
    {
      "cell_type": "markdown",
      "metadata": {
        "id": "kmgihQFJVDrF"
      },
      "source": [
        "<center>\n",
        "    <img src=\"https://cf-courses-data.s3.us.cloud-object-storage.appdomain.cloud/IBMDeveloperSkillsNetwork-DS0105EN-SkillsNetwork/labs/Module2/images/SN_web_lightmode.png\" width=\"300\" alt=\"cognitiveclass.ai logo\">\n",
        "</center>\n"
      ]
    },
    {
      "cell_type": "markdown",
      "metadata": {
        "id": "4pYDHALWVDrJ"
      },
      "source": [
        "#### Add your code below following the instructions given in the course\n"
      ]
    },
    {
      "cell_type": "markdown",
      "source": [
        "<h1>Data Science Tools and Ecosystem</h1>"
      ],
      "metadata": {
        "id": "cZbZSuoDYMee"
      }
    },
    {
      "cell_type": "code",
      "source": [
        "<h1>Data Science Tools and Ecosystem</h1>"
      ],
      "metadata": {
        "id": "m_SckuzfVY_E"
      },
      "execution_count": null,
      "outputs": []
    },
    {
      "cell_type": "markdown",
      "source": [],
      "metadata": {
        "id": "uO4um1KEYY6Y"
      }
    },
    {
      "cell_type": "markdown",
      "source": [
        "<p><strong>In this notebook, Data Science Tools and Ecosystem are summarized.</strong></p>\n"
      ],
      "metadata": {
        "id": "l2CaKB6YYX-B"
      }
    },
    {
      "cell_type": "code",
      "source": [
        "In this notebook, we provide a summary of the Data Science Tools and Ecosystem."
      ],
      "metadata": {
        "id": "NdJwQSuLVl4y"
      },
      "execution_count": null,
      "outputs": []
    },
    {
      "cell_type": "markdown",
      "source": [
        "<h1>Data Science Tools and Ecosystem</h1>\n",
        "\n",
        "<h2>Overview:</h2>\n",
        "<p>Some of the popular languages that Data Scientists use are:</p>\n",
        "\n",
        "<ol>\n",
        "  <li>Python</li>\n",
        "  <li>R</li>\n",
        "  <li>Julia</li>\n",
        "</ol>"
      ],
      "metadata": {
        "id": "KsS4N-HNYbUz"
      }
    },
    {
      "cell_type": "code",
      "source": [
        "\n",
        "<h1>Data Science Tools and Ecosystem</h1>\n",
        "\n",
        "<h2>Overview:</h2>\n",
        "<p>Some of the popular languages that Data Scientists use are:</p>\n",
        "\n",
        "<ol>\n",
        "  <li>Python</li>\n",
        "  <li>R</li>\n",
        "  <li>Julia</li>\n",
        "</ol>"
      ],
      "metadata": {
        "id": "odW544TLVwxc"
      },
      "execution_count": null,
      "outputs": []
    },
    {
      "cell_type": "markdown",
      "source": [
        "<h1>Data Science Tools and Ecosystem</h1>\n",
        "\n",
        "<h2>Overview:</h2>\n",
        "<p>Some of the popular languages that Data Scientists use are:</p>\n",
        "\n",
        "<ol>\n",
        "  <li>Python</li>\n",
        "  <li>R</li>\n",
        "  <li>Julia</li>\n",
        "</ol>\n",
        "\n",
        "<h2>Commonly Used Libraries:</h2>\n",
        "<p>Some of the commonly used libraries used by Data Scientists include:</p>\n",
        "\n",
        "<ol>\n",
        "  <li>NumPy</li>\n",
        "  <li>Pandas</li>\n",
        "  <li>Scikit-learn</li>\n",
        "  <li>Matplotlib</li>\n",
        "  <li>TensorFlow</li>\n",
        "</ol>"
      ],
      "metadata": {
        "id": "N_NSv5KUYeNQ"
      }
    },
    {
      "cell_type": "code",
      "source": [
        "<h1>Data Science Tools and Ecosystem</h1>\n",
        "\n",
        "<h2>Overview:</h2>\n",
        "<p>Some of the popular languages that Data Scientists use are:</p>\n",
        "\n",
        "<ol>\n",
        "  <li>Python</li>\n",
        "  <li>R</li>\n",
        "  <li>Julia</li>\n",
        "</ol>\n",
        "\n",
        "<h2>Commonly Used Libraries:</h2>\n",
        "<p>Some of the commonly used libraries used by Data Scientists include:</p>\n",
        "\n",
        "<ol>\n",
        "  <li>NumPy</li>\n",
        "  <li>Pandas</li>\n",
        "  <li>Scikit-learn</li>\n",
        "  <li>Matplotlib</li>\n",
        "  <li>TensorFlow</li>\n",
        "</ol>\n",
        "\n"
      ],
      "metadata": {
        "id": "6zcWbhOaV-4l"
      },
      "execution_count": null,
      "outputs": []
    },
    {
      "cell_type": "markdown",
      "source": [
        "<h1>Data Science Tools and Ecosystem</h1>\n",
        "\n",
        "<h2>Overview:</h2>\n",
        "<p>Some of the popular languages that Data Scientists use are:</p>\n",
        "\n",
        "<ol>\n",
        "  <li>Python</li>\n",
        "  <li>R</li>\n",
        "  <li>Julia</li>\n",
        "</ol>\n",
        "\n",
        "<h2>Commonly Used Libraries:</h2>\n",
        "<p>Some of the commonly used libraries used by Data Scientists include:</p>\n",
        "\n",
        "<ol>\n",
        "  <li>NumPy</li>\n",
        "  <li>Pandas</li>\n",
        "  <li>Scikit-learn</li>\n",
        "  <li>Matplotlib</li>\n",
        "  <li>TensorFlow</li>\n",
        "</ol>\n",
        "\n",
        "<h2>Data Science Tools:</h2>\n",
        "\n",
        "<table>\n",
        "  <tr>\n",
        "    <th>Data Science Tools</th>\n",
        "  </tr>\n",
        "  <tr>\n",
        "    <td>Jupyter Notebook</td>\n",
        "  </tr>\n",
        "  <tr>\n",
        "    <td>RStudio</td>\n",
        "  </tr>\n",
        "  <tr>\n",
        "    <td>VS Code</td>\n",
        "  </tr>\n",
        "</table>"
      ],
      "metadata": {
        "id": "e02PFtQKYgc6"
      }
    },
    {
      "cell_type": "code",
      "source": [
        "<h1>Data Science Tools and Ecosystem</h1>\n",
        "\n",
        "<h2>Overview:</h2>\n",
        "<p>Some of the popular languages that Data Scientists use are:</p>\n",
        "\n",
        "<ol>\n",
        "  <li>Python</li>\n",
        "  <li>R</li>\n",
        "  <li>Julia</li>\n",
        "</ol>\n",
        "\n",
        "<h2>Commonly Used Libraries:</h2>\n",
        "<p>Some of the commonly used libraries used by Data Scientists include:</p>\n",
        "\n",
        "<ol>\n",
        "  <li>NumPy</li>\n",
        "  <li>Pandas</li>\n",
        "  <li>Scikit-learn</li>\n",
        "  <li>Matplotlib</li>\n",
        "  <li>TensorFlow</li>\n",
        "</ol>\n",
        "\n",
        "<h2>Data Science Tools:</h2>\n",
        "\n",
        "<table>\n",
        "  <tr>\n",
        "    <th>Data Science Tools</th>\n",
        "  </tr>\n",
        "  <tr>\n",
        "    <td>Jupyter Notebook</td>\n",
        "  </tr>\n",
        "  <tr>\n",
        "    <td>RStudio</td>\n",
        "  </tr>\n",
        "  <tr>\n",
        "    <td>VS Code</td>\n",
        "  </tr>\n",
        "</table>\n"
      ],
      "metadata": {
        "colab": {
          "base_uri": "https://localhost:8080/",
          "height": 130
        },
        "id": "nkzgpIXKWqRZ",
        "outputId": "b2538ba3-da53-4333-cc45-c6f8d3d472c6"
      },
      "execution_count": 12,
      "outputs": [
        {
          "output_type": "error",
          "ename": "SyntaxError",
          "evalue": "ignored",
          "traceback": [
            "\u001b[0;36m  File \u001b[0;32m\"<ipython-input-12-a2fa3e82ee91>\"\u001b[0;36m, line \u001b[0;32m1\u001b[0m\n\u001b[0;31m    <h1>Data Science Tools and Ecosystem</h1>\u001b[0m\n\u001b[0m    ^\u001b[0m\n\u001b[0;31mSyntaxError\u001b[0m\u001b[0;31m:\u001b[0m invalid syntax\n"
          ]
        }
      ]
    },
    {
      "cell_type": "markdown",
      "source": [
        "<h1>Data Science Tools and Ecosystem</h1>\n",
        "\n",
        "<h2>Overview:</h2>\n",
        "<p>Some of the popular languages that Data Scientists use are:</p>\n",
        "\n",
        "<ol>\n",
        "  <li>Python</li>\n",
        "  <li>R</li>\n",
        "  <li>Julia</li>\n",
        "</ol>\n",
        "\n",
        "<h2>Commonly Used Libraries:</h2>\n",
        "<p>Some of the commonly used libraries used by Data Scientists include:</p>\n",
        "\n",
        "<ol>\n",
        "  <li>NumPy</li>\n",
        "  <li>Pandas</li>\n",
        "  <li>Scikit-learn</li>\n",
        "  <li>Matplotlib</li>\n",
        "  <li>TensorFlow</li>\n",
        "</ol>\n",
        "\n",
        "<h2>Data Science Tools:</h2>\n",
        "\n",
        "<table>\n",
        "  <tr>\n",
        "    <th>Data Science Tools</th>\n",
        "  </tr>\n",
        "  <tr>\n",
        "    <td>Jupyter Notebook</td>\n",
        "  </tr>\n",
        "  <tr>\n",
        "    <td>RStudio</td>\n",
        "  </tr>\n",
        "  <tr>\n",
        "    <td>VS Code</td>\n",
        "  </tr>\n",
        "</table>\n"
      ],
      "metadata": {
        "id": "jBxo0jZcY4sQ"
      }
    },
    {
      "cell_type": "code",
      "source": [
        "<pre>\n",
        "<code># This is a simple arithmetic expression to multiply then add integers.\n",
        "(3 * 4) + 5\n",
        "</code>\n",
        "</pre>\n"
      ],
      "metadata": {
        "id": "lnEgs_HuWzyw"
      },
      "execution_count": null,
      "outputs": []
    },
    {
      "cell_type": "markdown",
      "source": [
        "<pre>\n",
        "<code># This is a simple arithmetic expression to multiply then add integers.\n",
        "(3 * 4) + 5\n",
        "</code>\n",
        "</pre>"
      ],
      "metadata": {
        "id": "2zFLIas6Y7_P"
      }
    },
    {
      "cell_type": "code",
      "source": [
        "<pre>\n",
        "<code># This will convert 200 minutes to hours by dividing by 60.\n",
        "200 / 60\n",
        "</code>\n",
        "</pre>\n"
      ],
      "metadata": {
        "id": "ZpArjsNGW45z"
      },
      "execution_count": null,
      "outputs": []
    },
    {
      "cell_type": "markdown",
      "source": [
        "<pre>\n",
        "<code># This will convert 200 minutes to hours by dividing by 60.\n",
        "200 / 60\n",
        "</code>\n",
        "</pre>"
      ],
      "metadata": {
        "id": "yn2NNn46Y9Rv"
      }
    },
    {
      "cell_type": "code",
      "source": [
        "\n",
        "minutes = 200\n",
        "hours = minutes / 60\n",
        "\n",
        "print(hours)\n"
      ],
      "metadata": {
        "colab": {
          "base_uri": "https://localhost:8080/"
        },
        "id": "_sEwvxBSbkxD",
        "outputId": "9ad19bac-f123-4b4d-c91a-8212d065c34c"
      },
      "execution_count": 14,
      "outputs": [
        {
          "output_type": "stream",
          "name": "stdout",
          "text": [
            "3.3333333333333335\n"
          ]
        }
      ]
    },
    {
      "cell_type": "code",
      "source": [
        "<h1>Objectives:</h1>\n",
        "\n",
        "<ul>\n",
        "  <li><strong>List popular languages for Data Science</strong></li>\n",
        "  <li><strong>Explore commonly used libraries in Data Science</strong></li>\n",
        "  <li><strong>Examine Data Science tools and development environments</strong></li>\n",
        "  <li><strong>Evaluate arithmetic expressions in Python</strong></li>\n",
        "  <li><strong>Convert units of time</strong></li>\n",
        "</ul>\n"
      ],
      "metadata": {
        "id": "t1Ik5fHkW_Ln"
      },
      "execution_count": null,
      "outputs": []
    },
    {
      "cell_type": "markdown",
      "source": [
        "<h1>Objectives:</h1>\n",
        "\n",
        "<ul>\n",
        "  <li><strong>List popular languages for Data Science</strong></li>\n",
        "  <li><strong>Explore commonly used libraries in Data Science</strong></li>\n",
        "  <li><strong>Examine Data Science tools and development environments</strong></li>\n",
        "  <li><strong>Evaluate arithmetic expressions in Python</strong></li>\n",
        "  <li><strong>Convert units of time</strong></li>\n",
        "</ul>"
      ],
      "metadata": {
        "id": "W_kkDLlxY-pl"
      }
    },
    {
      "cell_type": "code",
      "source": [
        "<h2>Author</h2>\n",
        "\n",
        "<p>Kia Rash</p>\n"
      ],
      "metadata": {
        "id": "2C6NVSA7ZJgx"
      },
      "execution_count": null,
      "outputs": []
    },
    {
      "cell_type": "markdown",
      "source": [
        "<h2>Author</h2>\n",
        "\n",
        "<p>Kia Rash</p>\n"
      ],
      "metadata": {
        "id": "nDNeuCB8ZKwZ"
      }
    },
    {
      "cell_type": "code",
      "source": [],
      "metadata": {
        "id": "7wzLdgIMXP-X"
      },
      "execution_count": null,
      "outputs": []
    }
  ],
  "metadata": {
    "kernelspec": {
      "display_name": "Python 3",
      "name": "python3"
    },
    "language_info": {
      "name": "python"
    },
    "colab": {
      "provenance": [],
      "include_colab_link": true
    }
  },
  "nbformat": 4,
  "nbformat_minor": 0
}